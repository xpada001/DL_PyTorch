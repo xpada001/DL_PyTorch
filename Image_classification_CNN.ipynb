{
 "cells": [
  {
   "cell_type": "code",
   "execution_count": 1,
   "metadata": {
    "executionInfo": {
     "elapsed": 656,
     "status": "ok",
     "timestamp": 1619831093480,
     "user": {
      "displayName": "Chen Siao",
      "photoUrl": "",
      "userId": "10255725406936450127"
     },
     "user_tz": 240
    },
    "id": "N8Dm2uBkZMQ1"
   },
   "outputs": [],
   "source": [
    "import torch\n",
    "import matplotlib.pyplot as plt\n",
    "import numpy as np\n",
    "from torch import nn\n",
    "import torch.nn.functional as F\n",
    "from torchvision import datasets, transforms"
   ]
  },
  {
   "cell_type": "code",
   "execution_count": 2,
   "metadata": {
    "executionInfo": {
     "elapsed": 650,
     "status": "ok",
     "timestamp": 1619831093482,
     "user": {
      "displayName": "Chen Siao",
      "photoUrl": "",
      "userId": "10255725406936450127"
     },
     "user_tz": 240
    },
    "id": "oV_RIlFMZQgx"
   },
   "outputs": [],
   "source": [
    "device = torch.device('cuda:0' if torch.cuda.is_available() else 'cpu')"
   ]
  },
  {
   "cell_type": "code",
   "execution_count": 3,
   "metadata": {
    "colab": {
     "base_uri": "https://localhost:8080/"
    },
    "executionInfo": {
     "elapsed": 16604,
     "status": "ok",
     "timestamp": 1619831109444,
     "user": {
      "displayName": "Chen Siao",
      "photoUrl": "",
      "userId": "10255725406936450127"
     },
     "user_tz": 240
    },
    "id": "wc9hY81qZMQ-",
    "outputId": "1ff61bbe-15c1-4412-de99-1698550acdfb"
   },
   "outputs": [
    {
     "name": "stderr",
     "output_type": "stream",
     "text": [
      "'wget' is not recognized as an internal or external command,\n",
      "operable program or batch file.\n",
      "tar: Error opening archive: Failed to open 'MNIST.tar.gz'\n"
     ]
    },
    {
     "data": {
      "text/plain": [
       "Dataset MNIST\n",
       "    Number of datapoints: 60000\n",
       "    Root location: ./\n",
       "    Split: Train\n",
       "    StandardTransform\n",
       "Transform: Compose(\n",
       "               Resize(size=(28, 28), interpolation=bilinear)\n",
       "               ToTensor()\n",
       "               Normalize(mean=(0.5,), std=(0.5,))\n",
       "           )"
      ]
     },
     "execution_count": 3,
     "metadata": {},
     "output_type": "execute_result"
    }
   ],
   "source": [
    "!wget www.di.ens.fr/~lelarge/MNIST.tar.gz\n",
    "!tar -zxvf MNIST.tar.gz\n",
    "\n",
    "\n",
    "transform = transforms.Compose([transforms.Resize((28,28)),\n",
    "                               transforms.ToTensor(),\n",
    "                               transforms.Normalize((0.5,),(0.5,))\n",
    "                               ])\n",
    "training_dataset = datasets.MNIST(root='./', train=True, download=True, transform = transform)\n",
    "val_dataset = datasets.MNIST(root='./', train=False, download=True, transform = transform)\n",
    "training_dataset"
   ]
  },
  {
   "cell_type": "code",
   "execution_count": 4,
   "metadata": {
    "executionInfo": {
     "elapsed": 16597,
     "status": "ok",
     "timestamp": 1619831109445,
     "user": {
      "displayName": "Chen Siao",
      "photoUrl": "",
      "userId": "10255725406936450127"
     },
     "user_tz": 240
    },
    "id": "GBb8JkRnZMRA"
   },
   "outputs": [],
   "source": [
    "def img_convert(tensor):\n",
    "    im = tensor.cpu().clone().detach().numpy() # right now the image is of form (1,28,28), need it to be (28,28,1)\n",
    "    im = im.transpose(1,2,0) # now we get (28,28,1)\n",
    "    #denormalization\n",
    "    im = im * np.array((0.5,)) + np.array((0.5,))\n",
    "    im = im.clip(0,1) #to ensure the range is indeed between 0 and 1\n",
    "    \n",
    "    return im"
   ]
  },
  {
   "cell_type": "code",
   "execution_count": 5,
   "metadata": {
    "executionInfo": {
     "elapsed": 16592,
     "status": "ok",
     "timestamp": 1619831109447,
     "user": {
      "displayName": "Chen Siao",
      "photoUrl": "",
      "userId": "10255725406936450127"
     },
     "user_tz": 240
    },
    "id": "_yPCNtDnZMRA"
   },
   "outputs": [],
   "source": [
    "training_loader = torch.utils.data.DataLoader(dataset=training_dataset, batch_size = 100, shuffle=True)\n",
    "val_loader = torch.utils.data.DataLoader(dataset=val_dataset, batch_size = 100, shuffle=False) #no training in this dataset, so no need to shuffle"
   ]
  },
  {
   "cell_type": "code",
   "execution_count": 6,
   "metadata": {
    "colab": {
     "base_uri": "https://localhost:8080/",
     "height": 268
    },
    "executionInfo": {
     "elapsed": 17300,
     "status": "ok",
     "timestamp": 1619831110162,
     "user": {
      "displayName": "Chen Siao",
      "photoUrl": "",
      "userId": "10255725406936450127"
     },
     "user_tz": 240
    },
    "id": "iewtVWbcZMRB",
    "outputId": "8f15be2a-8e88-45e9-98a2-b99087080d1b"
   },
   "outputs": [
    {
     "data": {
      "image/png": "[encoded data removed]",
      "text/plain": [
       "<Figure size 1800x288 with 20 Axes>"
      ]
     },
     "metadata": {},
     "output_type": "display_data"
    }
   ],
   "source": [
    "im_iter = iter(training_loader)\n",
    "imgs, labels = im_iter.next()\n",
    "fig = plt.figure(figsize=(25,4))\n",
    "\n",
    "for i in range(20):\n",
    "    ax = fig.add_subplot(2,10, i+1, xticks=[], yticks=[])\n",
    "    plt.imshow(np.squeeze(img_convert(imgs[i])))\n",
    "    ax.set_title(labels[i].item())"
   ]
  },
  {
   "cell_type": "code",
   "execution_count": 7,
   "metadata": {
    "executionInfo": {
     "elapsed": 17292,
     "status": "ok",
     "timestamp": 1619831110162,
     "user": {
      "displayName": "Chen Siao",
      "photoUrl": "",
      "userId": "10255725406936450127"
     },
     "user_tz": 240
    },
    "id": "1DUUheLbZMRB"
   },
   "outputs": [],
   "source": [
    "class LeNetModel (nn.Module):\n",
    "    def __init__(self):\n",
    "        super().__init__()\n",
    "        self.conv1 = nn.Conv2d(1,20,5,1)\n",
    "        self.conv2 = nn.Conv2d(20,50,5,1)\n",
    "        self.full_conn1 = nn.Linear(50*4*4, 500) #28x28 -> 5x5kernel -> 24x24 -> pooling -> 12x12 -> 5x5kernel -> 8x8 -> pooling -> 4x4\n",
    "        self.dropout1 = nn.Dropout(0.5)\n",
    "        self.full_conn2 = nn.Linear(500, 10)\n",
    "        \n",
    "        #no need to do padding as the image edges are not that important to do convolution on\n",
    "        \n",
    "    def forward(self, x):\n",
    "        x = F.relu(self.conv1(x))\n",
    "        x = F.max_pool2d(x, 2,2) # cut image size by half\n",
    "        x = F.relu(self.conv2(x))\n",
    "        x = F.max_pool2d(x, 2,2)\n",
    "        x = x.view(-1, 4*4*50) # must be flattent to go to fully connected layer\n",
    "        x = F.relu(self.full_conn1(x))\n",
    "        x = self.dropout1(x)\n",
    "        x = self.full_conn2(x)\n",
    "        return x"
   ]
  },
  {
   "cell_type": "code",
   "execution_count": 8,
   "metadata": {
    "colab": {
     "base_uri": "https://localhost:8080/"
    },
    "executionInfo": {
     "elapsed": 20381,
     "status": "ok",
     "timestamp": 1619831113259,
     "user": {
      "displayName": "Chen Siao",
      "photoUrl": "",
      "userId": "10255725406936450127"
     },
     "user_tz": 240
    },
    "id": "51k04rWJZMRC",
    "outputId": "c73d2822-5358-496e-cdcb-16e435d69e4e"
   },
   "outputs": [
    {
     "data": {
      "text/plain": [
       "LeNetModel(\n",
       "  (conv1): Conv2d(1, 20, kernel_size=(5, 5), stride=(1, 1))\n",
       "  (conv2): Conv2d(20, 50, kernel_size=(5, 5), stride=(1, 1))\n",
       "  (full_conn1): Linear(in_features=800, out_features=500, bias=True)\n",
       "  (dropout1): Dropout(p=0.5, inplace=False)\n",
       "  (full_conn2): Linear(in_features=500, out_features=10, bias=True)\n",
       ")"
      ]
     },
     "execution_count": 8,
     "metadata": {},
     "output_type": "execute_result"
    }
   ],
   "source": [
    "model = LeNetModel().to(device)\n",
    "model"
   ]
  },
  {
   "cell_type": "code",
   "execution_count": 9,
   "metadata": {
    "executionInfo": {
     "elapsed": 20375,
     "status": "ok",
     "timestamp": 1619831113260,
     "user": {
      "displayName": "Chen Siao",
      "photoUrl": "",
      "userId": "10255725406936450127"
     },
     "user_tz": 240
    },
    "id": "28k3ZeGZZMRC"
   },
   "outputs": [],
   "source": [
    "loss_func = nn.CrossEntropyLoss()\n",
    "optimizer = torch.optim.Adam(model.parameters(), lr=0.0001) #smaller learning rate will make the plot of loss function more smooth, as it will avoid overshooting"
   ]
  },
  {
   "cell_type": "code",
   "execution_count": 10,
   "metadata": {
    "executionInfo": {
     "elapsed": 20368,
     "status": "ok",
     "timestamp": 1619831113261,
     "user": {
      "displayName": "Chen Siao",
      "photoUrl": "",
      "userId": "10255725406936450127"
     },
     "user_tz": 240
    },
    "id": "knwyxvBPZMRD"
   },
   "outputs": [],
   "source": [
    "epochs = 10\n",
    "losses = []\n",
    "accuracies = []\n",
    "\n",
    "val_losses = []\n",
    "val_accuracies = []"
   ]
  },
  {
   "cell_type": "code",
   "execution_count": 11,
   "metadata": {
    "colab": {
     "base_uri": "https://localhost:8080/"
    },
    "executionInfo": {
     "elapsed": 135222,
     "status": "ok",
     "timestamp": 1619831228122,
     "user": {
      "displayName": "Chen Siao",
      "photoUrl": "",
      "userId": "10255725406936450127"
     },
     "user_tz": 240
    },
    "id": "AUBR_9cBZMRD",
    "outputId": "67c9951e-041a-43cc-d947-9ca430dd691c"
   },
   "outputs": [
    {
     "name": "stdout",
     "output_type": "stream",
     "text": [
      "epoch:  1\n",
      "training loss: 0.5771, accuracy: 84.4600\n",
      "val loss: 0.1881, val accuracy: 94.6600\n",
      "epoch:  2\n",
      "training loss: 0.1542, accuracy: 95.4567\n",
      "val loss: 0.1089, val accuracy: 96.7500\n",
      "epoch:  3\n",
      "training loss: 0.1028, accuracy: 96.9167\n",
      "val loss: 0.0760, val accuracy: 97.8300\n",
      "epoch:  4\n",
      "training loss: 0.0800, accuracy: 97.6317\n",
      "val loss: 0.0635, val accuracy: 97.8900\n",
      "epoch:  5\n",
      "training loss: 0.0658, accuracy: 98.0150\n",
      "val loss: 0.0575, val accuracy: 98.1800\n",
      "epoch:  6\n",
      "training loss: 0.0559, accuracy: 98.3233\n",
      "val loss: 0.0482, val accuracy: 98.4900\n",
      "epoch:  7\n",
      "training loss: 0.0502, accuracy: 98.4933\n",
      "val loss: 0.0444, val accuracy: 98.5600\n",
      "epoch:  8\n",
      "training loss: 0.0442, accuracy: 98.6317\n",
      "val loss: 0.0409, val accuracy: 98.7000\n",
      "epoch:  9\n",
      "training loss: 0.0401, accuracy: 98.8067\n",
      "val loss: 0.0357, val accuracy: 98.8100\n",
      "epoch:  10\n",
      "training loss: 0.0369, accuracy: 98.9133\n",
      "val loss: 0.0358, val accuracy: 98.8000\n"
     ]
    }
   ],
   "source": [
    "for i in range(epochs):\n",
    "    print(\"epoch: \", i+1)\n",
    "    epoch_loss = 0.0\n",
    "    epoch_acc = 0.0\n",
    "    \n",
    "    val_epoch_loss = 0.0\n",
    "    val_epoch_acc = 0.0\n",
    "    \n",
    "    for images, labels in training_loader:\n",
    "        images = images.to(device)\n",
    "        labels = labels.to(device)\n",
    "        outputs = model.forward(images)\n",
    "        loss = loss_func(outputs, labels)\n",
    "        \n",
    "        optimizer.zero_grad()\n",
    "        loss.backward()\n",
    "        optimizer.step()\n",
    "        \n",
    "        _, max_idx = torch.max(outputs, 1) # 1 here indicates dim = 1, which is calculating max in horizontal direction, dim = 0 is vertical, dim = 2 is in depth direction.\n",
    "        epoch_loss += loss.item()\n",
    "        epoch_acc += torch.sum(max_idx == labels.data).item() # since batch size is 100, no need to divide by size then multiply by 100 to get % accuracy.\n",
    "\n",
    "    \n",
    "    tot_loss = epoch_loss/len(training_loader)\n",
    "    tot_acc = epoch_acc/len(training_loader)\n",
    "    losses.append(tot_loss)\n",
    "    accuracies.append(tot_acc)\n",
    "    print(\"training loss: {:.4f}, accuracy: {:.4f}\".format(tot_loss, tot_acc))\n",
    "    \n",
    "    #validation phase\n",
    "    \n",
    "    with torch.no_grad(): #to save memory, set all grad flags to False\n",
    "        for val_images, val_labels in val_loader:\n",
    "            val_images = val_images.to(device)\n",
    "            val_labels = val_labels.to(device)\n",
    "            val_outputs = model.forward(val_images)\n",
    "            val_loss = loss_func(val_outputs, val_labels)\n",
    "\n",
    "            _, max_idx = torch.max(val_outputs, 1)\n",
    "            val_epoch_loss += val_loss.item()\n",
    "            val_epoch_acc += torch.sum(max_idx == val_labels.data).item()\n",
    "     \n",
    "    val_tot_loss = val_epoch_loss/len(val_loader)\n",
    "    val_tot_acc = val_epoch_acc/len(val_loader)\n",
    "    val_losses.append(val_tot_loss)\n",
    "    val_accuracies.append(val_tot_acc)\n",
    "    print(\"val loss: {:.4f}, val accuracy: {:.4f}\".format(val_tot_loss, val_tot_acc))"
   ]
  },
  {
   "cell_type": "code",
   "execution_count": 12,
   "metadata": {
    "colab": {
     "base_uri": "https://localhost:8080/",
     "height": 286
    },
    "executionInfo": {
     "elapsed": 135359,
     "status": "ok",
     "timestamp": 1619831228268,
     "user": {
      "displayName": "Chen Siao",
      "photoUrl": "",
      "userId": "10255725406936450127"
     },
     "user_tz": 240
    },
    "id": "Zl3fLQLjZMRE",
    "outputId": "ce67ea5b-db64-4999-b254-b7f19c98de08"
   },
   "outputs": [
    {
     "data": {
      "text/plain": [
       "<matplotlib.legend.Legend at 0x1cd00bbd588>"
      ]
     },
     "execution_count": 12,
     "metadata": {},
     "output_type": "execute_result"
    },
    {
     "data": {
      "image/png": "[encoded data removed]",
      "text/plain": [
       "<Figure size 432x288 with 1 Axes>"
      ]
     },
     "metadata": {
      "needs_background": "light"
     },
     "output_type": "display_data"
    }
   ],
   "source": [
    "plt.plot(losses, label = 'train loss')\n",
    "plt.plot(val_losses, label = 'validation loss')\n",
    "plt.legend()"
   ]
  },
  {
   "cell_type": "code",
   "execution_count": 13,
   "metadata": {
    "colab": {
     "base_uri": "https://localhost:8080/",
     "height": 283
    },
    "executionInfo": {
     "elapsed": 135596,
     "status": "ok",
     "timestamp": 1619831228514,
     "user": {
      "displayName": "Chen Siao",
      "photoUrl": "",
      "userId": "10255725406936450127"
     },
     "user_tz": 240
    },
    "id": "Hv6V0xy5ZMRF",
    "outputId": "8b3ee304-a8a2-44fb-8bfa-a016d1a6ca3d"
   },
   "outputs": [
    {
     "data": {
      "text/plain": [
       "<matplotlib.legend.Legend at 0x1cd00f6df60>"
      ]
     },
     "execution_count": 13,
     "metadata": {},
     "output_type": "execute_result"
    },
    {
     "data": {
      "image/png": "[encoded data removed]",
      "text/plain": [
       "<Figure size 432x288 with 1 Axes>"
      ]
     },
     "metadata": {
      "needs_background": "light"
     },
     "output_type": "display_data"
    }
   ],
   "source": [
    "plt.plot(accuracies, label = 'train accuracy')\n",
    "plt.plot(val_accuracies, label = 'validation accuracy')\n",
    "plt.legend()"
   ]
  },
  {
   "cell_type": "code",
   "execution_count": 14,
   "metadata": {
    "colab": {
     "base_uri": "https://localhost:8080/",
     "height": 305
    },
    "executionInfo": {
     "elapsed": 136159,
     "status": "ok",
     "timestamp": 1619831229086,
     "user": {
      "displayName": "Chen Siao",
      "photoUrl": "",
      "userId": "10255725406936450127"
     },
     "user_tz": 240
    },
    "id": "LD8tMsYzZMRF",
    "outputId": "bf2427fc-3408-424f-f394-b5f02ef7fc89"
   },
   "outputs": [
    {
     "name": "stdout",
     "output_type": "stream",
     "text": [
      "<Response [200]>\n"
     ]
    },
    {
     "data": {
      "text/plain": [
       "<matplotlib.image.AxesImage at 0x1cd01903240>"
      ]
     },
     "execution_count": 14,
     "metadata": {},
     "output_type": "execute_result"
    },
    {
     "data": {
      "image/png": "[encoded data removed]",
      "text/plain": [
       "<Figure size 432x288 with 1 Axes>"
      ]
     },
     "metadata": {
      "needs_background": "light"
     },
     "output_type": "display_data"
    }
   ],
   "source": [
    "import requests\n",
    "import PIL\n",
    "from PIL import Image\n",
    "\n",
    "url = 'https://images.homedepot-static.com/productImages/007164ea-d47e-4f66-8d8c-fd9f621984a2/svn/architectural-mailboxes-house-letters-numbers-3585b-5-64_1000.jpg'\n",
    "response = requests.get(url, stream=True)\n",
    "print(response)\n",
    "img = Image.open(response.raw)\n",
    "plt.imshow(img)\n"
   ]
  },
  {
   "cell_type": "code",
   "execution_count": 15,
   "metadata": {
    "colab": {
     "base_uri": "https://localhost:8080/",
     "height": 283
    },
    "executionInfo": {
     "elapsed": 136152,
     "status": "ok",
     "timestamp": 1619831229087,
     "user": {
      "displayName": "Chen Siao",
      "photoUrl": "",
      "userId": "10255725406936450127"
     },
     "user_tz": 240
    },
    "id": "y2MeSCxXZMRG",
    "outputId": "f033e1d7-2b40-46ef-b98b-98ca63b98674"
   },
   "outputs": [
    {
     "data": {
      "text/plain": [
       "<matplotlib.image.AxesImage at 0x1cd0195ea20>"
      ]
     },
     "execution_count": 15,
     "metadata": {},
     "output_type": "execute_result"
    },
    {
     "data": {
      "image/png": "[encoded data removed]",
      "text/plain": [
       "<Figure size 432x288 with 1 Axes>"
      ]
     },
     "metadata": {
      "needs_background": "light"
     },
     "output_type": "display_data"
    }
   ],
   "source": [
    "#need to transform image to 28 by 28\n",
    "\n",
    "import PIL.ImageOps\n",
    "\n",
    "img = PIL.ImageOps.invert(img) #invert the color, black -> white and vice versa\n",
    "img = img.convert('1') # change to black and white\n",
    "img = transform(img)\n",
    "plt.imshow(np.squeeze(img_convert(img))) #now is is like the images we trained"
   ]
  },
  {
   "cell_type": "code",
   "execution_count": 16,
   "metadata": {
    "colab": {
     "base_uri": "https://localhost:8080/"
    },
    "executionInfo": {
     "elapsed": 136274,
     "status": "ok",
     "timestamp": 1619831229218,
     "user": {
      "displayName": "Chen Siao",
      "photoUrl": "",
      "userId": "10255725406936450127"
     },
     "user_tz": 240
    },
    "id": "klFTbcFpZMRG",
    "outputId": "491e4531-f3a3-4aa3-ae15-684514c999a2"
   },
   "outputs": [
    {
     "name": "stdout",
     "output_type": "stream",
     "text": [
      "5\n"
     ]
    }
   ],
   "source": [
    "img = img.to(device)\n",
    "img = img.unsqueeze(0)\n",
    "outputs = model.forward(img)\n",
    "_, max_idx = torch.max(outputs, 1)\n",
    "print(max_idx.item())"
   ]
  },
  {
   "cell_type": "code",
   "execution_count": 17,
   "metadata": {
    "colab": {
     "base_uri": "https://localhost:8080/",
     "height": 268
    },
    "executionInfo": {
     "elapsed": 137039,
     "status": "ok",
     "timestamp": 1619831229991,
     "user": {
      "displayName": "Chen Siao",
      "photoUrl": "",
      "userId": "10255725406936450127"
     },
     "user_tz": 240
    },
    "id": "nr1I353oZMRG",
    "outputId": "25f3e58a-eaf5-41bd-e425-4ea7f67695a7"
   },
   "outputs": [
    {
     "data": {
      "image/png": "[encoded data removed]",
      "text/plain": [
       "<Figure size 1800x288 with 20 Axes>"
      ]
     },
     "metadata": {},
     "output_type": "display_data"
    }
   ],
   "source": [
    "im_iter = iter(val_loader)\n",
    "images, labels = im_iter.next() # just take one batch and visualize some of these images\n",
    "images = images.to(device)\n",
    "labels = labels.to(device)\n",
    "\n",
    "outputs = model.forward(images)\n",
    "_, max_idx = torch.max(outputs, 1)\n",
    "\n",
    "\n",
    "fig = plt.figure(figsize=(25,4))\n",
    "\n",
    "for i in range(20):\n",
    "    ax = fig.add_subplot(2,10, i+1, xticks=[], yticks=[])\n",
    "    plt.imshow(np.squeeze(img_convert(images[i])))\n",
    "    ax.set_title(\"pred: {}, real: {}\".format(str(max_idx[i].item()), str(labels[i].item())), color = (\"green\" if max_idx[i] == labels[i] else \"red\"))"
   ]
  },
  {
   "cell_type": "code",
   "execution_count": null,
   "metadata": {
    "executionInfo": {
     "elapsed": 137031,
     "status": "ok",
     "timestamp": 1619831229991,
     "user": {
      "displayName": "Chen Siao",
      "photoUrl": "",
      "userId": "10255725406936450127"
     },
     "user_tz": 240
    },
    "id": "5sMt4XbMZMRH"
   },
   "outputs": [],
   "source": []
  }
 ],
 "metadata": {
  "accelerator": "GPU",
  "colab": {
   "collapsed_sections": [],
   "name": "Image classification-CNN.ipynb",
   "provenance": []
  },
  "kernelspec": {
   "display_name": "Python 3",
   "language": "python",
   "name": "python3"
  },
  "language_info": {
   "codemirror_mode": {
    "name": "ipython",
    "version": 3
   },
   "file_extension": ".py",
   "mimetype": "text/x-python",
   "name": "python",
   "nbconvert_exporter": "python",
   "pygments_lexer": "ipython3",
   "version": "3.7.3"
  }
 },
 "nbformat": 4,
 "nbformat_minor": 1
}
